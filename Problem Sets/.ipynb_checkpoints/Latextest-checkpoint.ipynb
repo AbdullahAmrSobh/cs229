{
 "cells": [
  {
   "cell_type": "markdown",
   "metadata": {},
   "source": [
    "# 1. Gradients and Hessians (and Jacobians)\n",
    "\n",
    "Let's further recall, that for a differentiable function $f=(f_1,\\ldots, f_m):\\mathbb{R}^n\\to \\mathbb{R}^m$ (where $f_i:\\mathbb{R}^n\\to \\mathbb{R}$ is the $i$-th component function of $f$), we can define at every point $x\\in \\mathbb{R}^n$ the differential ${\\rm d}_xf:\\mathbb{R}^n\\to \\mathbb{R}^m$ (we identified the tangent space at $x$ with the vectorspace $\\mathbb{R}^n$ and the tangent space at $f(x)$ with the vector space $\\mathbb{R}^m$): "
   ]
  },
  {
   "cell_type": "code",
   "execution_count": null,
   "metadata": {},
   "outputs": [],
   "source": []
  }
 ],
 "metadata": {
  "kernelspec": {
   "display_name": "Python 3",
   "language": "python",
   "name": "python3"
  },
  "language_info": {
   "codemirror_mode": {
    "name": "ipython",
    "version": 3
   },
   "file_extension": ".py",
   "mimetype": "text/x-python",
   "name": "python",
   "nbconvert_exporter": "python",
   "pygments_lexer": "ipython3",
   "version": "3.8.2"
  }
 },
 "nbformat": 4,
 "nbformat_minor": 4
}
