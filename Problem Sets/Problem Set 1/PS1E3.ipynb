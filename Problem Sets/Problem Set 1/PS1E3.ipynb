{
 "cells": [
  {
   "cell_type": "markdown",
   "metadata": {},
   "source": [
    "# 3. Poisson Regression\n",
    "\n",
    "Exponential family: $p(y;\\eta) = b(y)\\exp(\\eta^TT(y)-a(\\eta))$."
   ]
  },
  {
   "cell_type": "markdown",
   "metadata": {},
   "source": [
    "## (a)\n",
    "\n",
    "$$\\begin{align*} \n",
    "p(y;\\lambda) &= \\frac{e^{-\\lambda}\\lambda^y}{y!}\\\\\n",
    "&= \\frac 1{y!} \\exp(-\\lambda + y\\log \\lambda)\\\\\n",
    "&= \\frac 1{y!} \\exp((\\log \\lambda)^T y - \\exp(\\log \\lambda))\n",
    "\\end{align*}$$"
   ]
  },
  {
   "cell_type": "markdown",
   "metadata": {},
   "source": [
    "So we can take \n",
    "$$\\begin{align*}\n",
    "b(y)&=\\frac 1{y!}\\\\\n",
    "\\eta &= \\log \\lambda\\\\\n",
    "T(y) &= y\\\\\n",
    "a(\\eta) &= \\exp(\\eta)\n",
    "\\end{align*}$$"
   ]
  },
  {
   "cell_type": "markdown",
   "metadata": {},
   "source": [
    "## (b)"
   ]
  },
  {
   "cell_type": "markdown",
   "metadata": {},
   "source": [
    "The canonical response function is \n",
    "$$ g(\\eta) = E[T(y);\\eta] = E[y;\\eta] = \\lambda = \\exp \\eta.$$"
   ]
  },
  {
   "cell_type": "markdown",
   "metadata": {},
   "source": [
    "## (c)"
   ]
  },
  {
   "cell_type": "markdown",
   "metadata": {},
   "source": [
    "We have \n",
    "$$ \\log p(y^{(i)} \\mid x^{(i)}; \\theta) = \\log b(y^{(i)}) + (x^{(i)})^T\\theta y^{(i)}- a((x^{(i)})^T\\theta)$$"
   ]
  },
  {
   "cell_type": "markdown",
   "metadata": {},
   "source": [
    "Taking the differential with respect to $\\theta$ gives\n",
    "\n",
    "$$ \\mathrm d_\\theta\\log p(y^{(i)} \\mid x^{(i)}; \\theta) = y^{(i)}(x^{(i)})^T - \\exp((x^{(i)})^T\\theta)(x^{(i)})^T $$"
   ]
  },
  {
   "cell_type": "markdown",
   "metadata": {},
   "source": [
    "So the gradient is given by $x^{(i)}(y^{(i)}-g(\\theta^Tx^{(i)})) =x^{(i)}(y^{(i)}-h_\\theta(x^{(i)})) $, which gives the update rule"
   ]
  },
  {
   "cell_type": "markdown",
   "metadata": {},
   "source": [
    "$$ \\theta \\mapsto  \\theta + \\alpha x^{(i)}(y^{(i)}-h_\\theta(x^{(i)}))$$"
   ]
  },
  {
   "cell_type": "markdown",
   "metadata": {},
   "source": [
    "for stochastic gradient, where $\\alpha$ is the learning rate.\n",
    "\n",
    "Looking at a single coordinate $j$ this means that $\\theta_j$ updates as\n",
    "$$ \\theta_j \\mapsto \\theta_j + \\alpha x^{(i)}_j (y^{(i)}- h_\\theta(x^{(i)}))$$"
   ]
  },
  {
   "cell_type": "markdown",
   "metadata": {},
   "source": [
    "## (d)"
   ]
  },
  {
   "cell_type": "code",
   "execution_count": 1,
   "metadata": {},
   "outputs": [],
   "source": [
    "import numpy as np\n",
    "import src.util as util\n",
    "\n",
    "from src.linear_model import LinearModel"
   ]
  },
  {
   "cell_type": "markdown",
   "metadata": {},
   "source": [
    "Load the data:"
   ]
  },
  {
   "cell_type": "code",
   "execution_count": 2,
   "metadata": {},
   "outputs": [],
   "source": [
    "train_path='data/ds4_train.csv'\n",
    "eval_path='data/ds4_valid.csv'\n",
    "\n",
    "x_train, y_train = util.load_dataset(train_path, add_intercept=False)\n",
    "x_val, y_val = util.load_dataset(eval_path, add_intercept=False)"
   ]
  },
  {
   "cell_type": "markdown",
   "metadata": {},
   "source": [
    "Take a look at the data:"
   ]
  },
  {
   "cell_type": "code",
   "execution_count": 3,
   "metadata": {},
   "outputs": [
    {
     "data": {
      "text/plain": [
       "(array([[1.        , 0.        , 0.99204749, 0.32574102],\n",
       "        [0.        , 1.        , 0.47046345, 0.37186578],\n",
       "        [0.        , 1.        , 0.49653283, 0.28985262],\n",
       "        ...,\n",
       "        [0.        , 1.        , 0.5731734 , 0.42840612],\n",
       "        [0.        , 1.        , 0.60116637, 0.94911474],\n",
       "        [0.        , 1.        , 0.32460144, 0.40509498]]),\n",
       " (2500, 4))"
      ]
     },
     "execution_count": 3,
     "metadata": {},
     "output_type": "execute_result"
    }
   ],
   "source": [
    "x_train, x_train.shape"
   ]
  },
  {
   "cell_type": "code",
   "execution_count": 4,
   "metadata": {},
   "outputs": [
    {
     "data": {
      "text/plain": [
       "(array([ 2463097.,   645481.,   474123., ...,  1016002., 10620315.,\n",
       "          558245.]),\n",
       " (2500,))"
      ]
     },
     "execution_count": 4,
     "metadata": {},
     "output_type": "execute_result"
    }
   ],
   "source": [
    "y_train, y_train.shape"
   ]
  },
  {
   "cell_type": "markdown",
   "metadata": {},
   "source": [
    "Define a Poissonregression model:"
   ]
  },
  {
   "cell_type": "code",
   "execution_count": 5,
   "metadata": {},
   "outputs": [],
   "source": [
    "class PoissonRegression(LinearModel):\n",
    "    \"\"\"Poisson Regression.\n",
    "\n",
    "    Example usage:\n",
    "        > clf = PoissonRegression(step_size=lr)\n",
    "        > clf.fit(x_train, y_train)\n",
    "        > clf.predict(x_eval)\n",
    "    \"\"\"\n",
    "\n",
    "    def fit(self, x, y):\n",
    "        \"\"\"Run gradient ascent to maximize likelihood for Poisson regression.\n",
    "\n",
    "        Args:\n",
    "            x: Training example inputs. Shape (m, n).\n",
    "            y: Training example labels. Shape (m,).\n",
    "        \"\"\"\n",
    "        # *** START CODE HERE ***        \n",
    "        m,n = x.shape\n",
    "        \n",
    "        def gradient(theta):\n",
    "            return 1/m * x.T @ (y-np.exp(x@theta))\n",
    "        \n",
    "        theta = np.zeros(n)\n",
    "        lr = self.step_size\n",
    "        step = lr * gradient(theta)\n",
    "        \n",
    "        while np.linalg.norm(step,1) > self.eps:\n",
    "            theta += step\n",
    "            step = lr * gradient(theta)\n",
    "            \n",
    "        self.theta = theta + step\n",
    "\n",
    "        # *** END CODE HERE ***\n",
    "\n",
    "    def predict(self, x):\n",
    "        \"\"\"Make a prediction given inputs x.\n",
    "\n",
    "        Args:\n",
    "            x: Inputs of shape (m, n).\n",
    "\n",
    "        Returns:\n",
    "            Floating-point prediction for each input, shape (m,).\n",
    "        \"\"\"\n",
    "        # *** START CODE HERE ***\n",
    "        return np.exp(x@ self.theta)\n",
    "        # *** END CODE HERE ***"
   ]
  },
  {
   "cell_type": "markdown",
   "metadata": {},
   "source": [
    "Fit a model to the training data:"
   ]
  },
  {
   "cell_type": "code",
   "execution_count": 6,
   "metadata": {},
   "outputs": [
    {
     "data": {
      "text/plain": [
       "array([11.2993503 , 10.7993319 ,  2.00025994,  4.40057538])"
      ]
     },
     "execution_count": 6,
     "metadata": {},
     "output_type": "execute_result"
    }
   ],
   "source": [
    "clf = PoissonRegression(1e-7)\n",
    "clf.fit(x_train, y_train)\n",
    "clf.theta"
   ]
  },
  {
   "cell_type": "markdown",
   "metadata": {},
   "source": [
    "Let's plot the predictions on the validation set. The red dots correspond to $(i,y^{(i)})$, and the blue crosses to the predictions."
   ]
  },
  {
   "cell_type": "code",
   "execution_count": 7,
   "metadata": {},
   "outputs": [
    {
     "data": {
      "text/plain": [
       "[<matplotlib.lines.Line2D at 0x1b4f8d1e9e8>]"
      ]
     },
     "execution_count": 7,
     "metadata": {},
     "output_type": "execute_result"
    },
    {
     "data": {
      "image/png": "[encoded data removed]",
      "text/plain": [
       "<Figure size 432x288 with 1 Axes>"
      ]
     },
     "metadata": {
      "needs_background": "light"
     },
     "output_type": "display_data"
    }
   ],
   "source": [
    "import matplotlib.pyplot as plt\n",
    "y_pred = clf.predict(x_val)\n",
    "plt.plot(y_pred, 'ro')\n",
    "plt.plot(y_val, 'bx')"
   ]
  }
 ],
 "metadata": {
  "kernelspec": {
   "display_name": "Python 3",
   "language": "python",
   "name": "python3"
  },
  "language_info": {
   "codemirror_mode": {
    "name": "ipython",
    "version": 3
   },
   "file_extension": ".py",
   "mimetype": "text/x-python",
   "name": "python",
   "nbconvert_exporter": "python",
   "pygments_lexer": "ipython3",
   "version": "3.6.10"
  }
 },
 "nbformat": 4,
 "nbformat_minor": 4
}
